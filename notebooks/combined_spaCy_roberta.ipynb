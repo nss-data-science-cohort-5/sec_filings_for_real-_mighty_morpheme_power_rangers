{
 "cells": [
  {
   "cell_type": "code",
   "execution_count": 1,
   "id": "38c00a19",
   "metadata": {},
   "outputs": [],
   "source": [
    "import pandas as pd\n",
    "import spacy\n",
    "from spacy.matcher import PhraseMatcher, Matcher\n",
    "from transformers import AutoModelForQuestionAnswering, AutoTokenizer, pipeline\n",
    "import pickle"
   ]
  },
  {
   "cell_type": "code",
   "execution_count": 2,
   "id": "1e94a861",
   "metadata": {},
   "outputs": [],
   "source": [
    "# loading in dictionary of 10Ks\n",
    "with open('../data/10k_processed.pkl', 'rb') as f:\n",
    "    sec_10ks = pickle.load(f)"
   ]
  },
  {
   "cell_type": "code",
   "execution_count": 3,
   "id": "975666d3",
   "metadata": {},
   "outputs": [],
   "source": [
    "def find_stock_repurchase(string):\n",
    "    nlp = spacy.load(\"en_core_web_md\")\n",
    "    \n",
    "    matcher = Matcher(nlp.vocab)\n",
    "\n",
    "    corpus = string\n",
    "    doc = nlp(corpus)\n",
    "    pattern = [{'LEMMA': 'share'},\n",
    "               {'IS_ALPHA': True, 'OP': '*'},\n",
    "               {'LEMMA': 'repurchase'}]\n",
    "    matcher.add('REPURCHASE', [pattern]) \n",
    "\n",
    "    matches = matcher(doc)\n",
    "    text_matches = []\n",
    "    for match_id, start, end in matches:\n",
    "        string_id = nlp.vocab.strings[match_id]  # Get string representation\n",
    "        span = doc[start:end]  # The matched span\n",
    "        text_matches.append(\"Match ID: {}\\nString ID: {}\\nStart: {}\\nEnd: {}\\nText: {}\\nSentence: {}\".format(\n",
    "          match_id, string_id, start, end, span.text, span.sent))\n",
    "    return text_matches"
   ]
  },
  {
   "cell_type": "code",
   "execution_count": 4,
   "id": "3f80ad2a",
   "metadata": {},
   "outputs": [],
   "source": [
    "def one_string_to_rule_them_all(list):\n",
    "    \"\"\"\n",
    "    Takes a list of strings and joins them into one string\n",
    "    \"\"\"\n",
    "    string = ''.join(list)\n",
    "    return string"
   ]
  },
  {
   "cell_type": "code",
   "execution_count": 5,
   "id": "73477f0e",
   "metadata": {},
   "outputs": [],
   "source": [
    "def roberta_extract(question, context):\n",
    "    \"\"\"\n",
    "    Takes in a question and a string and uses the roberta model from Huggingface to pull out the question items\n",
    "    \n",
    "    question = A question in a string format\n",
    "    context = a string that has the answers to the question asked - hopefully\n",
    "    \"\"\"\n",
    "    model_name = \"deepset/roberta-base-squad2\"\n",
    "\n",
    "    # a) Get predictions\n",
    "    nlp = pipeline('question-answering', model = model_name, tokenizer = model_name)\n",
    "    QA_input = {\n",
    "        'question': question,\n",
    "        'context': context\n",
    "    }\n",
    "    res = nlp(QA_input)\n",
    "\n",
    "    # b) Load model & tokenizer\n",
    "    model = AutoModelForQuestionAnswering.from_pretrained(model_name)\n",
    "    tokenizer = AutoTokenizer.from_pretrained(model_name)\n",
    "    \n",
    "    return res"
   ]
  },
  {
   "cell_type": "code",
   "execution_count": 6,
   "id": "0ad496eb",
   "metadata": {},
   "outputs": [],
   "source": [
    "text_keys = list(sec_10ks.keys())"
   ]
  },
  {
   "cell_type": "code",
   "execution_count": 7,
   "id": "0559eb9f",
   "metadata": {},
   "outputs": [
    {
     "data": {
      "text/plain": [
       "'amrk-10k_20210630.htm'"
      ]
     },
     "execution_count": 7,
     "metadata": {},
     "output_type": "execute_result"
    }
   ],
   "source": [
    "text_keys[0]"
   ]
  },
  {
   "cell_type": "code",
   "execution_count": 8,
   "id": "3f5e8e3f",
   "metadata": {},
   "outputs": [],
   "source": [
    "# test on amrk-10k_20210630.htm\n",
    "\n",
    "text_10k = sec_10ks[text_keys[0]]\n",
    "\n",
    "# finding relevant sentences in 10K with spaCy Matcher\n",
    "matches_10k = find_stock_repurchase(text_10k)\n",
    "\n",
    "# turning the list of matches into a single string\n",
    "matches_10k = one_string_to_rule_them_all(matches_10k)\n",
    "\n",
    "# feeding the spaCy matches into roberta to answer question\n",
    "question = 'When were share repurcahses approved?'\n",
    "approval = roberta_extract(question, matches_10k)"
   ]
  },
  {
   "cell_type": "code",
   "execution_count": 9,
   "id": "62d89623",
   "metadata": {},
   "outputs": [
    {
     "data": {
      "text/plain": [
       "{'score': 0.7636703252792358, 'start': 986, 'end': 996, 'answer': 'April 2018'}"
      ]
     },
     "execution_count": 9,
     "metadata": {},
     "output_type": "execute_result"
    }
   ],
   "source": [
    "approval"
   ]
  },
  {
   "cell_type": "code",
   "execution_count": 10,
   "id": "3cffaad1",
   "metadata": {},
   "outputs": [
    {
     "name": "stderr",
     "output_type": "stream",
     "text": [
      "C:\\Users\\sarei\\anaconda3\\lib\\site-packages\\transformers\\tokenization_utils_base.py:705: VisibleDeprecationWarning: Creating an ndarray from ragged nested sequences (which is a list-or-tuple of lists-or-tuples-or ndarrays with different lengths or shapes) is deprecated. If you meant to do this, you must specify 'dtype=object' when creating the ndarray.\n",
      "  tensor = as_tensor(value)\n",
      "C:\\Users\\sarei\\anaconda3\\lib\\site-packages\\transformers\\pipelines\\question_answering.py:301: VisibleDeprecationWarning: Creating an ndarray from ragged nested sequences (which is a list-or-tuple of lists-or-tuples-or ndarrays with different lengths or shapes) is deprecated. If you meant to do this, you must specify 'dtype=object' when creating the ndarray.\n",
      "  p_mask = np.asarray(\n"
     ]
    },
    {
     "data": {
      "text/plain": [
       "{'score': 0.9157719612121582,\n",
       " 'start': 486854,\n",
       " 'end': 486864,\n",
       " 'answer': 'April 2018'}"
      ]
     },
     "execution_count": 10,
     "metadata": {},
     "output_type": "execute_result"
    }
   ],
   "source": [
    "roberta_extract(question, text_10k)"
   ]
  },
  {
   "cell_type": "code",
   "execution_count": 11,
   "id": "f1287466",
   "metadata": {},
   "outputs": [],
   "source": [
    "def combined_model(text, question):\n",
    "    matches_10k = find_stock_repurchase(text)\n",
    "    matches_10k = one_string_to_rule_them_all(matches_10k)\n",
    "    answer = roberta_extract(question, matches_10k)\n",
    "    \n",
    "    return answer"
   ]
  },
  {
   "cell_type": "code",
   "execution_count": 12,
   "id": "bfda57d4",
   "metadata": {},
   "outputs": [
    {
     "data": {
      "text/plain": [
       "'cnxc-20211130'"
      ]
     },
     "execution_count": 12,
     "metadata": {},
     "output_type": "execute_result"
    }
   ],
   "source": [
    "text_keys[1]"
   ]
  },
  {
   "cell_type": "markdown",
   "id": "c8cd7ab2",
   "metadata": {},
   "source": [
    "## Testing the various questions with the combined model"
   ]
  },
  {
   "cell_type": "code",
   "execution_count": 13,
   "id": "89ba77b2",
   "metadata": {},
   "outputs": [
    {
     "data": {
      "text/plain": [
       "{'score': 0.901553213596344,\n",
       " 'start': 2690,\n",
       " 'end': 2704,\n",
       " 'answer': 'September 2021'}"
      ]
     },
     "execution_count": 13,
     "metadata": {},
     "output_type": "execute_result"
    }
   ],
   "source": [
    "text = sec_10ks[text_keys[1]]\n",
    "question = 'When were repurchases authorized?'\n",
    "\n",
    "combined_model(text, question)"
   ]
  },
  {
   "cell_type": "code",
   "execution_count": 14,
   "id": "2e15fd77",
   "metadata": {},
   "outputs": [
    {
     "data": {
      "text/plain": [
       "{'score': 0.6095575094223022,\n",
       " 'start': 2690,\n",
       " 'end': 2704,\n",
       " 'answer': 'September 2021'}"
      ]
     },
     "execution_count": 14,
     "metadata": {},
     "output_type": "execute_result"
    }
   ],
   "source": [
    "text = sec_10ks[text_keys[1]]\n",
    "question = 'When were shares purchased?'\n",
    "\n",
    "combined_model(text, question)"
   ]
  },
  {
   "cell_type": "code",
   "execution_count": 15,
   "id": "eef56342",
   "metadata": {},
   "outputs": [
    {
     "data": {
      "text/plain": [
       "{'score': 0.2499254047870636, 'start': 153, 'end': 160, 'answer': '138,455'}"
      ]
     },
     "execution_count": 15,
     "metadata": {},
     "output_type": "execute_result"
    }
   ],
   "source": [
    "text = sec_10ks[text_keys[1]]\n",
    "question = 'How many shares were repurchased?'\n",
    "\n",
    "combined_model(text, question)"
   ]
  },
  {
   "cell_type": "code",
   "execution_count": 16,
   "id": "5e49c64c",
   "metadata": {},
   "outputs": [
    {
     "data": {
      "text/plain": [
       "{'score': 0.42985936999320984,\n",
       " 'start': 674,\n",
       " 'end': 688,\n",
       " 'answer': '$474.9 million'}"
      ]
     },
     "execution_count": 16,
     "metadata": {},
     "output_type": "execute_result"
    }
   ],
   "source": [
    "text = sec_10ks[text_keys[1]]\n",
    "question = 'What was the authorization amount?'\n",
    "\n",
    "combined_model(text, question)"
   ]
  },
  {
   "cell_type": "code",
   "execution_count": 17,
   "id": "7d0e671f",
   "metadata": {},
   "outputs": [
    {
     "data": {
      "text/plain": [
       "{'score': 0.3907131552696228,\n",
       " 'start': 3147,\n",
       " 'end': 3159,\n",
       " 'answer': '$500 million'}"
      ]
     },
     "execution_count": 17,
     "metadata": {},
     "output_type": "execute_result"
    }
   ],
   "source": [
    "text = sec_10ks[text_keys[1]]\n",
    "question = 'What was the purchase amount?'\n",
    "\n",
    "combined_model(text, question)"
   ]
  },
  {
   "cell_type": "markdown",
   "id": "a146acec",
   "metadata": {},
   "source": [
    "## Testing the various questions using just Roberta"
   ]
  },
  {
   "cell_type": "code",
   "execution_count": 18,
   "id": "4dac1620",
   "metadata": {},
   "outputs": [
    {
     "data": {
      "text/plain": [
       "{'score': 0.9213380813598633,\n",
       " 'start': 162667,\n",
       " 'end': 162681,\n",
       " 'answer': 'September 2021'}"
      ]
     },
     "execution_count": 18,
     "metadata": {},
     "output_type": "execute_result"
    }
   ],
   "source": [
    "text = sec_10ks[text_keys[1]]\n",
    "question = 'When were repurchases authorized?'\n",
    "\n",
    "roberta_extract(question, text)"
   ]
  },
  {
   "cell_type": "code",
   "execution_count": 19,
   "id": "c42570a7",
   "metadata": {},
   "outputs": [
    {
     "data": {
      "text/plain": [
       "{'score': 0.9353886246681213,\n",
       " 'start': 94767,\n",
       " 'end': 94780,\n",
       " 'answer': 'December 2021'}"
      ]
     },
     "execution_count": 19,
     "metadata": {},
     "output_type": "execute_result"
    }
   ],
   "source": [
    "text = sec_10ks[text_keys[1]]\n",
    "question = 'When were shares purchased?'\n",
    "\n",
    "roberta_extract(question, text)"
   ]
  },
  {
   "cell_type": "code",
   "execution_count": 20,
   "id": "96a68367",
   "metadata": {},
   "outputs": [
    {
     "data": {
      "text/plain": [
       "{'score': 0.9722062945365906,\n",
       " 'start': 163340,\n",
       " 'end': 163347,\n",
       " 'answer': '138,455'}"
      ]
     },
     "execution_count": 20,
     "metadata": {},
     "output_type": "execute_result"
    }
   ],
   "source": [
    "text = sec_10ks[text_keys[1]]\n",
    "question = 'How many shares were repurchased?'\n",
    "\n",
    "roberta_extract(question, text)"
   ]
  },
  {
   "cell_type": "code",
   "execution_count": 21,
   "id": "97425a0b",
   "metadata": {},
   "outputs": [
    {
     "data": {
      "text/plain": [
       "{'score': 0.6396191716194153,\n",
       " 'start': 316680,\n",
       " 'end': 316688,\n",
       " 'answer': '$500,000'}"
      ]
     },
     "execution_count": 21,
     "metadata": {},
     "output_type": "execute_result"
    }
   ],
   "source": [
    "text = sec_10ks[text_keys[1]]\n",
    "question = 'What was the authorization amount?'\n",
    "\n",
    "roberta_extract(question, text)"
   ]
  },
  {
   "cell_type": "code",
   "execution_count": 22,
   "id": "79bb09f0",
   "metadata": {},
   "outputs": [
    {
     "data": {
      "text/plain": [
       "{'score': 0.9680351614952087,\n",
       " 'start': 317118,\n",
       " 'end': 317125,\n",
       " 'answer': '$25,100'}"
      ]
     },
     "execution_count": 22,
     "metadata": {},
     "output_type": "execute_result"
    }
   ],
   "source": [
    "text = sec_10ks[text_keys[1]]\n",
    "question = 'What was the purchase cost?'\n",
    "\n",
    "roberta_extract(question, text)"
   ]
  },
  {
   "cell_type": "code",
   "execution_count": null,
   "id": "16fb70e2",
   "metadata": {},
   "outputs": [],
   "source": []
  }
 ],
 "metadata": {
  "kernelspec": {
   "display_name": "Python 3 (ipykernel)",
   "language": "python",
   "name": "python3"
  },
  "language_info": {
   "codemirror_mode": {
    "name": "ipython",
    "version": 3
   },
   "file_extension": ".py",
   "mimetype": "text/x-python",
   "name": "python",
   "nbconvert_exporter": "python",
   "pygments_lexer": "ipython3",
   "version": "3.8.13"
  }
 },
 "nbformat": 4,
 "nbformat_minor": 5
}
